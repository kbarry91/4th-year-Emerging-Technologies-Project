{
 "cells": [
  {
   "cell_type": "markdown",
   "metadata": {},
   "source": [
    "![numpyimg](https://i.imgur.com/wsqbmaa.png)"
   ]
  },
  {
   "cell_type": "markdown",
   "metadata": {},
   "source": [
    "# About the numpy random package"
   ]
  },
  {
   "cell_type": "markdown",
   "metadata": {},
   "source": [
    "## Introduction"
   ]
  },
  {
   "cell_type": "markdown",
   "metadata": {},
   "source": [
    "A [Numpy](http://www.numpy.org/) random notebook. __Numpy__ is a numerical package for python. This notebook consists of a jupyter notebook explaining the concepts behind and the use of the numpy [random package](https://docs.scipy.org/doc/numpy-1.15.1/reference/routines.random.html), including plots of the various distributions.\n",
    "<br><br>\n",
    "The aim of this notebook is to demonstrate a basic understanding of the submodule __random__ module. I have chosen the methods that I feel are most significant. For a more in depth view check out the [Offical Docs](https://docs.scipy.org/doc/numpy-1.15.1/reference/routines.random.html)\n",
    "\n"
   ]
  },
  {
   "cell_type": "markdown",
   "metadata": {},
   "source": [
    "## Table Of Contents\n",
    "-  [Quick Start](#QuickStart)\n",
    "    -  [Importing Numpy](#importnumpy)\n",
    "    -  [Generate Random Data](#RandomData)\n",
    "    -  [Graph Random Data](#GraphData)\n",
    "-  [Simple Random Data](#.rand)\n",
    "    -  [.rand](#.rand())\n",
    "    -  [.randint](#.randint())\n",
    "-  [Permutations](#Permutations)\n",
    "    -  [.random.shuffle](#Shuffle)\n",
    "    -  [.random.Permutation](#Perm)\n",
    "-  [Distributions](#Dist)\n",
    "    -  [.random.normal](#Norm)\n",
    "    -  [.random.uniform](#Uni)\n",
    "    -  [.random.binomial](#Bio)\n",
    "    -  [.random.poisson](#Poi)\n",
    "    -  [.random.gamma](#Gam)\n",
    "-  [Random Generator](RanGen)\n",
    "    -  [.random.seed](#Rseed)\n",
    "    -  [.random.randomState](#Rstate)\n",
    "-  [References](#ref)"
   ]
  },
  {
   "cell_type": "markdown",
   "metadata": {},
   "source": [
    "## Quick Start<a id=\"QuickStart\"></a>"
   ]
  },
  {
   "cell_type": "markdown",
   "metadata": {},
   "source": [
    "### Importing Numpy <a id=\"importnumpy\"></a>\n",
    " The Numpy package will be used throughout this notebook. Import numpy and assign to 'np' (for quick reference)."
   ]
  },
  {
   "cell_type": "code",
   "execution_count": 1,
   "metadata": {},
   "outputs": [],
   "source": [
    "import numpy as np"
   ]
  },
  {
   "cell_type": "markdown",
   "metadata": {},
   "source": [
    "### RandomData\n",
    "1. Using the `uniform` method of the random class requires 2 parameters, The minimum and maximum value of the random number.\n",
    "1. Print the output.\n"
   ]
  },
  {
   "cell_type": "code",
   "execution_count": 2,
   "metadata": {},
   "outputs": [],
   "source": [
    "myRandom = np.random.uniform(0.0,10.0)"
   ]
  },
  {
   "cell_type": "code",
   "execution_count": 3,
   "metadata": {},
   "outputs": [
    {
     "name": "stdout",
     "output_type": "stream",
     "text": [
      "9.293757475360335\n"
     ]
    }
   ],
   "source": [
    "print(myRandom)"
   ]
  },
  {
   "cell_type": "markdown",
   "metadata": {},
   "source": [
    "### GraphData"
   ]
  },
  {
   "cell_type": "markdown",
   "metadata": {},
   "source": [
    "In order to graph data we must import the [matplotlib.pyplot](https://matplotlib.org/api/pyplot_api.html#module-matplotlib.pyplot) package.pylab combines pyplot with numpy into a single namespace. This is convenient for interactive work, but for programming it is recommended that the namespaces be kept separate."
   ]
  },
  {
   "cell_type": "code",
   "execution_count": 4,
   "metadata": {},
   "outputs": [],
   "source": [
    "import matplotlib.pyplot as plt"
   ]
  },
  {
   "cell_type": "code",
   "execution_count": 5,
   "metadata": {},
   "outputs": [
    {
     "data": {
      "image/png": "[encoded data removed]",
      "text/plain": [
       "<Figure size 432x288 with 1 Axes>"
      ]
     },
     "metadata": {
      "needs_background": "light"
     },
     "output_type": "display_data"
    }
   ],
   "source": [
    "myArray = np.array([1,2,3,4])\n",
    "plt.plot(myArray)\n",
    "plt.show()"
   ]
  },
  {
   "cell_type": "code",
   "execution_count": 6,
   "metadata": {},
   "outputs": [
    {
     "data": {
      "image/png": "[encoded data removed]",
      "text/plain": [
       "<Figure size 432x288 with 1 Axes>"
      ]
     },
     "metadata": {
      "needs_background": "light"
     },
     "output_type": "display_data"
    }
   ],
   "source": [
    "plt.plot([1,2,3,4],[2,5,7,8])\n",
    "plt.show()"
   ]
  },
  {
   "cell_type": "markdown",
   "metadata": {},
   "source": [
    "## Random Sampling (Simple Random Data)<a id=\"#SimpleRand\"></a>"
   ]
  },
  {
   "cell_type": "markdown",
   "metadata": {},
   "source": [
    "The Random sampling (numpy.random) package generates samples from a uniform distribution over (0, 1)"
   ]
  },
  {
   "cell_type": "markdown",
   "metadata": {},
   "source": [
    "### .rand()\n",
    "> <br>Creates an Array of the given shape and populates it with random samples."
   ]
  },
  {
   "cell_type": "code",
   "execution_count": 7,
   "metadata": {},
   "outputs": [
    {
     "data": {
      "text/plain": [
       "array([[0.20629375, 0.60953269, 0.50041569],\n",
       "       [0.56995503, 0.29083599, 0.04240165],\n",
       "       [0.97176372, 0.65709054, 0.68012511]])"
      ]
     },
     "execution_count": 7,
     "metadata": {},
     "output_type": "execute_result"
    }
   ],
   "source": [
    "num = np.random.rand(3,3)\n",
    "num"
   ]
  },
  {
   "cell_type": "markdown",
   "metadata": {},
   "source": [
    "### .randint()"
   ]
  },
  {
   "cell_type": "markdown",
   "metadata": {},
   "source": [
    ">__.randint(low,high,size=None)__\n",
    "<br>Returns random integer from _low_(inclusive) to _high_(exclusive),\n",
    "_size_ is optional to denote size of array returned, default is 1."
   ]
  },
  {
   "cell_type": "code",
   "execution_count": 8,
   "metadata": {},
   "outputs": [
    {
     "data": {
      "text/plain": [
       "4"
      ]
     },
     "execution_count": 8,
     "metadata": {},
     "output_type": "execute_result"
    }
   ],
   "source": [
    "# Generate a random integer between 2 and 5\n",
    "np.random.randint(2,5)"
   ]
  },
  {
   "cell_type": "code",
   "execution_count": 9,
   "metadata": {},
   "outputs": [
    {
     "data": {
      "text/plain": [
       "array([19, 19, 18])"
      ]
     },
     "execution_count": 9,
     "metadata": {},
     "output_type": "execute_result"
    }
   ],
   "source": [
    "# Generate an array of 3 elements with random integers between 2 and 20\n",
    "np.random.randint(2,20,size=3)"
   ]
  },
  {
   "cell_type": "markdown",
   "metadata": {},
   "source": [
    "### .random_sample()\n",
    "> __random_sample([size])__\n",
    " <br>Return random floats, takes one optional parameter: size (int or tuple of ints) and outputs the given shape \n",
    " <br>Can also be used by refering to :\n",
    " - random.random\n",
    " - random.ranf\n",
    " - random.sample\n"
   ]
  },
  {
   "cell_type": "code",
   "execution_count": 10,
   "metadata": {},
   "outputs": [
    {
     "data": {
      "text/plain": [
       "0.2589425758929461"
      ]
     },
     "execution_count": 10,
     "metadata": {},
     "output_type": "execute_result"
    }
   ],
   "source": [
    "np.random.random_sample()"
   ]
  },
  {
   "cell_type": "code",
   "execution_count": 11,
   "metadata": {},
   "outputs": [
    {
     "data": {
      "text/plain": [
       "array([0.57968433, 0.27211942, 0.63802989])"
      ]
     },
     "execution_count": 11,
     "metadata": {},
     "output_type": "execute_result"
    }
   ],
   "source": [
    "np.random.random_sample(3)"
   ]
  },
  {
   "cell_type": "markdown",
   "metadata": {},
   "source": [
    "## Permutations <a id=\"Permutations\"></a>\n",
    "A permutation can be defined as a collection of members to a set where order is important. The process of re-odering its elements is know as _permuting_."
   ]
  },
  {
   "cell_type": "markdown",
   "metadata": {},
   "source": [
    "### .random.shuffle()<a id=\"Shuffle\"></a>\n",
    "> __shuffle(array or list)__\n",
    " <br>Shuffles the sequence of its contents. "
   ]
  },
  {
   "cell_type": "code",
   "execution_count": 12,
   "metadata": {},
   "outputs": [
    {
     "data": {
      "text/plain": [
       "['foo', 'boo', 'moo', 'goo']"
      ]
     },
     "execution_count": 12,
     "metadata": {},
     "output_type": "execute_result"
    }
   ],
   "source": [
    "arr = [\"foo\",\"boo\",\"moo\",\"goo\"]\n",
    "arr"
   ]
  },
  {
   "cell_type": "code",
   "execution_count": 13,
   "metadata": {},
   "outputs": [
    {
     "data": {
      "text/plain": [
       "['boo', 'moo', 'goo', 'foo']"
      ]
     },
     "execution_count": 13,
     "metadata": {},
     "output_type": "execute_result"
    }
   ],
   "source": [
    "np.random.shuffle(arr)\n",
    "arr"
   ]
  },
  {
   "cell_type": "markdown",
   "metadata": {},
   "source": [
    "### .random.permutation() <a id =\"Perm\"></a>"
   ]
  },
  {
   "cell_type": "markdown",
   "metadata": {},
   "source": [
    ">__permutation(int or array)__\n",
    "<br> Randomly permutes a sequence or returns a permuted range.\n",
    "<br> Returns: Permuted sequence or array range."
   ]
  },
  {
   "cell_type": "code",
   "execution_count": 14,
   "metadata": {},
   "outputs": [
    {
     "data": {
      "text/plain": [
       "array([3, 0, 4, 1, 2])"
      ]
     },
     "execution_count": 14,
     "metadata": {},
     "output_type": "execute_result"
    }
   ],
   "source": [
    "np.random.permutation(5)"
   ]
  },
  {
   "cell_type": "code",
   "execution_count": 15,
   "metadata": {},
   "outputs": [
    {
     "data": {
      "text/plain": [
       "array([ 1, 15, 12,  9,  4])"
      ]
     },
     "execution_count": 15,
     "metadata": {},
     "output_type": "execute_result"
    }
   ],
   "source": [
    "np.random.permutation([1, 4, 9, 12, 15])"
   ]
  },
  {
   "cell_type": "markdown",
   "metadata": {},
   "source": [
    "## Distributions <a id=\"Dist\"></a>\n",
    ">The distribution of a statistical data set (or a population) is a listing or function showing all the possible values (or intervals) of the data and how often they occur. When a distribution of categorical data is organized, you see the number or percentage of individuals in each group. When a distribution of numerical data is organized, they’re often ordered from smallest to largest, broken into reasonably sized groups (if appropriate), and then put into graphs and charts to examine the shape, center, and amount of variability in the data.\n",
    "<cite>Deborah J. Rumsey,What the Distribution Tells You about a Statistical Data Set</cite>\n",
    "\n",
    "<br> The random module contains 35 different distributions. Among these I will explain the most commonly used as stated [here](http://cmdlinetips.com/2018/03/probability-distributions-in-python/) "
   ]
  },
  {
   "cell_type": "markdown",
   "metadata": {},
   "source": [
    "### .random.normal() <a id = \"Norm\"></a>"
   ]
  },
  {
   "cell_type": "markdown",
   "metadata": {},
   "source": [
    "The _Normal Distribution_ is one of the most well-known distributions and is commonly known as the _bell curved shape_.\n",
    ">__normal(loc=0.0,scale=1.0,size=None)__\n",
    "<br>\n",
    "<br>loc    : float or array_like of floats, Mean (“centre”) of the distribution.\n",
    "<br>scale  : float or array_like of floats,Standard deviation (spread or “width”) of the distribution.\n",
    "<br>size   : Int or tuple of ints, optional,Output shape.\n",
    "<br>returns: Drawn samples from the parameterized normal distribution."
   ]
  },
  {
   "cell_type": "code",
   "execution_count": 16,
   "metadata": {},
   "outputs": [],
   "source": [
    "# Draw Samples From Distribution\n",
    "mu, sigma = 0, 0.1 # mean and standard deviation\n",
    "s = np.random.normal(mu, sigma, 1000) "
   ]
  },
  {
   "cell_type": "code",
   "execution_count": 17,
   "metadata": {},
   "outputs": [
    {
     "data": {
      "text/plain": [
       "True"
      ]
     },
     "execution_count": 17,
     "metadata": {},
     "output_type": "execute_result"
    }
   ],
   "source": [
    "# Verify the mean and the variance\n",
    "abs(mu - np.mean(s)) < 0.01"
   ]
  },
  {
   "cell_type": "code",
   "execution_count": 18,
   "metadata": {},
   "outputs": [
    {
     "data": {
      "text/plain": [
       "True"
      ]
     },
     "execution_count": 18,
     "metadata": {},
     "output_type": "execute_result"
    }
   ],
   "source": [
    "# abs(sigma - np.std(s, ddof=1)) < 0.01\n",
    "abs(sigma - np.std(s, ddof=1)) < 0.01"
   ]
  },
  {
   "cell_type": "code",
   "execution_count": 19,
   "metadata": {},
   "outputs": [
    {
     "data": {
      "image/png": "[encoded data removed]",
      "text/plain": [
       "<Figure size 432x288 with 1 Axes>"
      ]
     },
     "metadata": {
      "needs_background": "light"
     },
     "output_type": "display_data"
    }
   ],
   "source": [
    "# Display the histogram of the samples, along with the probability density function\n",
    "count, bins, ignored = plt.hist(s, 30, density=True)\n",
    "plt.plot(bins, 1/(sigma * np.sqrt(2 * np.pi)) * np.exp( - (bins - mu)**2 / (2 * sigma**2) ), linewidth=2, color='r')\n",
    "plt.show()"
   ]
  },
  {
   "cell_type": "markdown",
   "metadata": {},
   "source": [
    "###  .random.uniform() <a id = \"Uni\"></a>"
   ]
  },
  {
   "cell_type": "markdown",
   "metadata": {},
   "source": [
    "We can generate random variables/numbers from uniform distribution function. \n",
    "> __.random.uniform(low=0.0, high=1.0, size=None)__\n",
    "<br>\n",
    "<br> low : float or array_like of floats, optional,Lower boundary.\n",
    "<br> high : float or array_like of floats, Upper boundary.\n",
    "<br> size : int or tuple of ints, optional, Output shape. \n",
    "<br> return : ndarray or scalar, Drawn samples from the parameterized uniform distribution"
   ]
  },
  {
   "cell_type": "code",
   "execution_count": 20,
   "metadata": {},
   "outputs": [
    {
     "data": {
      "image/png": "[encoded data removed]",
      "text/plain": [
       "<Figure size 432x288 with 1 Axes>"
      ]
     },
     "metadata": {
      "needs_background": "light"
     },
     "output_type": "display_data"
    }
   ],
   "source": [
    "# Generate our random numbers\n",
    "x = np.random.uniform(1, 10, 10000)\n",
    "\n",
    "# Display the histogram of the samples, along with the probability density function\n",
    "count, bins, ignored = plt.hist(s, 15, density=True)\n",
    "plt.plot(bins, np.ones_like(bins), linewidth=2, color='r')\n",
    "plt.show()"
   ]
  },
  {
   "cell_type": "markdown",
   "metadata": {},
   "source": [
    "### .random.beta() <a id = \"Beta\"></a>"
   ]
  },
  {
   "cell_type": "markdown",
   "metadata": {},
   "source": [
    "A special case of the Dirichlet distribution the _beta_ distribution is focused on probabilities. Beta distribution is a continuous distribution taking values from 0 to 1. It is defined by two parameters alpha and beta, depending on the values of alpha and beta they can assume very different distributions.\n",
    ">__beta(a,b,size)__\n",
    "<br>\n",
    "<br>a     : float or array_like of floats (Alpha)\n",
    "<br>scale  : float or array_like of floats (Beta)\n",
    "<br>size   : Int or tuple of ints, optional,Output shape.\n",
    "<br>returns: ndarray or scalar,Drawn samples from the parameterized beta distribution."
   ]
  },
  {
   "cell_type": "code",
   "execution_count": 21,
   "metadata": {},
   "outputs": [
    {
     "data": {
      "text/plain": [
       "array([0.49057584, 0.69863536, 0.73377119, ..., 0.74649267, 0.31242457,\n",
       "       0.77145963])"
      ]
     },
     "execution_count": 21,
     "metadata": {},
     "output_type": "execute_result"
    }
   ],
   "source": [
    "x = np.random.beta(1, 1, 10000)\n",
    "x"
   ]
  },
  {
   "cell_type": "markdown",
   "metadata": {},
   "source": [
    "## .randorm.binomial() <a id = \"Bio\"></a>"
   ]
  },
  {
   "cell_type": "markdown",
   "metadata": {},
   "source": [
    "Binomial distribution is a discrete probability distribution. It is used to obtain the number of successed from _n_ bernoulli trials.\n",
    "> __binomial(n, p, size=None)__\n",
    "<br> n : int or array like of ints, must be >=0\n",
    "<br> p :  float or array_like of floats, must be >=0 and <=1\n",
    "<br> size : Int or tuple of ints, optional,Output shape, how many times tested.\n",
    "<br> returns :  ndarray or scalar,Drawn samples from the binomial distribution."
   ]
  },
  {
   "cell_type": "code",
   "execution_count": 22,
   "metadata": {},
   "outputs": [
    {
     "data": {
      "text/plain": [
       "array([6, 4, 4, 4, 3, 6, 1, 6, 5, 8, 7, 7, 4, 2, 2, 7, 6, 6, 6, 4, 2, 7,\n",
       "       6, 6, 3, 8, 3, 4, 8, 6, 4, 7, 1, 6, 4, 1, 5, 7, 1, 6, 6, 4, 6, 5,\n",
       "       7, 5, 6, 4, 4, 8, 4, 3, 3, 4, 5, 6, 5, 7, 4, 5, 5, 7, 4, 4, 8, 6,\n",
       "       6, 4, 4, 6, 7, 5, 6, 6, 5, 5, 4, 5, 6, 2, 7, 5, 5, 7, 4, 5, 4, 7,\n",
       "       6, 1, 7, 6, 4, 2, 6, 5, 6, 6, 6, 5])"
      ]
     },
     "execution_count": 22,
     "metadata": {},
     "output_type": "execute_result"
    }
   ],
   "source": [
    "# Example of coin toss, flipped 10 times with a .5 probabilty, tested 100 times\n",
    "n,p,size = 10, .5,100\n",
    "s = np.random.binomial(n,p,size)\n",
    "s"
   ]
  },
  {
   "cell_type": "code",
   "execution_count": 23,
   "metadata": {},
   "outputs": [
    {
     "data": {
      "image/png": "[encoded data removed]",
      "text/plain": [
       "<Figure size 432x288 with 1 Axes>"
      ]
     },
     "metadata": {
      "needs_background": "light"
     },
     "output_type": "display_data"
    }
   ],
   "source": [
    "# Plot of distribution\n",
    "plt.plot(s)\n",
    "plt.xlabel('binomial')\n",
    "plt.ylabel('frequency')\n",
    "plt.show()"
   ]
  },
  {
   "cell_type": "markdown",
   "metadata": {},
   "source": [
    "### .random.poisson()  <a id =\"Poi\"></a>"
   ]
  },
  {
   "cell_type": "markdown",
   "metadata": {},
   "source": [
    "Poisson random is typically used to model the number of time an event occurs in a time interval.\n",
    "> __poisson(Iam=1.0, size=None)__\n",
    "<br> Iam : int or array like of ints, must be >=0, rate at which event happens\n",
    "<br> size : Int or tuple of ints, optional,Output shape, how many times tested.\n",
    "<br> returns :  ndarray or scalar,Drawn samples from the binomial distribution."
   ]
  },
  {
   "cell_type": "code",
   "execution_count": 24,
   "metadata": {},
   "outputs": [
    {
     "data": {
      "text/plain": [
       "array([6, 4, 6, ..., 2, 5, 4])"
      ]
     },
     "execution_count": 24,
     "metadata": {},
     "output_type": "execute_result"
    }
   ],
   "source": [
    "# Generate samples\n",
    "s = np.random.poisson(5, 10000)\n",
    "s"
   ]
  },
  {
   "cell_type": "code",
   "execution_count": 25,
   "metadata": {},
   "outputs": [
    {
     "data": {
      "image/png": "[encoded data removed]",
      "text/plain": [
       "<Figure size 432x288 with 1 Axes>"
      ]
     },
     "metadata": {
      "needs_background": "light"
     },
     "output_type": "display_data"
    }
   ],
   "source": [
    "# Draw 100 values for lambda 100 and 500\n",
    "s = np.random.poisson(lam=(100., 500.), size=(100, 2))\n",
    "count, bins, ignored = plt.hist(s, 14, density=True)\n",
    "\n",
    "# Plot the results\n",
    "plt.show()"
   ]
  },
  {
   "cell_type": "markdown",
   "metadata": {},
   "source": [
    "### .random.gamma()  <a id =\"Gam\"></a>"
   ]
  },
  {
   "cell_type": "markdown",
   "metadata": {},
   "source": [
    "The _Gamma_ distribution is often used to model times of a failure of electronic components, and arises naturally in processes for which the waiting times between Poisson distributed events are relevant.\n",
    "> __gamma(shape, scale=1.0, size=None)__\n",
    "<br> shape : float or array like of floats, must be >0, shape of distribution.\n",
    "<br> scale : float or array like of floats, must be >0, default 1.\n",
    "<br> size : Int or tuple of ints, optional.\n",
    "<br> returns :  ndarray or scalar,Drawn samples from the gamma distribution."
   ]
  },
  {
   "cell_type": "code",
   "execution_count": 26,
   "metadata": {},
   "outputs": [
    {
     "data": {
      "text/plain": [
       "array([6.56195488, 0.50763797, 0.3158911 , ..., 1.51242725, 1.08405451,\n",
       "       1.36429875])"
      ]
     },
     "execution_count": 26,
     "metadata": {},
     "output_type": "execute_result"
    }
   ],
   "source": [
    "# Genrate samples\n",
    "shape, scale = 2., 1. # mean and width\n",
    "s = np.random.standard_gamma(shape, 1000000)\n",
    "s"
   ]
  },
  {
   "cell_type": "code",
   "execution_count": 27,
   "metadata": {},
   "outputs": [
    {
     "data": {
      "image/png": "[encoded data removed]",
      "text/plain": [
       "<Figure size 432x288 with 1 Axes>"
      ]
     },
     "metadata": {
      "needs_background": "light"
     },
     "output_type": "display_data"
    }
   ],
   "source": [
    "# Import scipy.special for special functions\n",
    "import scipy.special as sps\n",
    "\n",
    "# Display histogram of samples\n",
    "count, bins, ignored = plt.hist(s, 50, density=True)\n",
    "y = bins**(shape-1) * ((np.exp(-bins/scale))/(sps.gamma(shape) * scale**shape))\n",
    "plt.plot(bins, y, linewidth=2, color='r')\n",
    "plt.show()"
   ]
  },
  {
   "cell_type": "markdown",
   "metadata": {},
   "source": [
    "## Random generator <a id=\"RanGen\"></a>"
   ]
  },
  {
   "cell_type": "markdown",
   "metadata": {},
   "source": [
    "In this last section we will look at random number generation. Random number generators can be applied for many different purposes. Apart from obvious applications like generating random numbers for the purposes of gambling or creating unpredictable results in a computer game, randomness is important for cryptography.\n",
    "<br><br>\n",
    "Random numbers are split into two categories:\n",
    "1. True Random Numbers\n",
    "1. Pseudorandom Numbers\n",
    "<br>\n",
    "\n",
    "> _Computers can generate truly random numbers by observing some outside data, like mouse movements or fan noise, which is not predictable, and creating data from it. This is known as entropy. Other times, they generate “pseudorandom” numbers by using an algorithm so the results appear random, even though they aren’t._\n",
    "-- <cite>Chris Hoffman</cite>"
   ]
  },
  {
   "cell_type": "markdown",
   "metadata": {},
   "source": [
    "### .random.seed()  <a id =\"Rseed\"></a>"
   ]
  },
  {
   "cell_type": "markdown",
   "metadata": {},
   "source": [
    "This method is used to seed the generator. _seed()_ is called when _RandomState_ is initialized and can be called again to re-seed the generator.\n",
    "> __seed(seed=None)__\n",
    "<br> seed : int or 1-d array, optional"
   ]
  },
  {
   "cell_type": "code",
   "execution_count": 28,
   "metadata": {},
   "outputs": [
    {
     "name": "stdout",
     "output_type": "stream",
     "text": [
      "[[0.15416284 0.7400497  0.26331502 0.53373939 0.01457496]\n",
      " [0.91874701 0.90071485 0.03342143 0.95694934 0.13720932]]\n"
     ]
    }
   ],
   "source": [
    "# set the seed\n",
    "np.random.seed(12)\n",
    "\n",
    "# Generate random number\n",
    "randomNumber = np.random.rand(2,5)\n",
    "print(randomNumber)"
   ]
  },
  {
   "cell_type": "markdown",
   "metadata": {},
   "source": [
    "### .random.RandomState()  <a id =\"Rstate\"></a>"
   ]
  },
  {
   "cell_type": "markdown",
   "metadata": {},
   "source": [
    "RandomState is a container for the Mersenne Twister pseudo-random number generator and exposes a number of methods for generating random numbers drawn from a variety of probability distributions.\n",
    "> __RandomState(seed=None)__\n",
    "<br> seed : None, int, array_like}, optional, random seed used to initialize rng. Integer between 0 and 2\\**32-1, If None RandomState will seed from the windows analogue or clock.\n"
   ]
  },
  {
   "cell_type": "code",
   "execution_count": 29,
   "metadata": {},
   "outputs": [
    {
     "name": "stdout",
     "output_type": "stream",
     "text": [
      "0.6936795270051179\n",
      "[[[0.28382835 0.60608318]\n",
      "  [0.94422514 0.85273554]\n",
      "  [0.00225923 0.52122603]\n",
      "  [0.55203763 0.48537741]]]\n"
     ]
    }
   ],
   "source": [
    "# Generate random seed\n",
    "randomSeed = np.random.RandomState(500)\n",
    "\n",
    "# Use randomSeed to generate random number\n",
    "print(randomSeed.rand())\n",
    "\n",
    "# Generate random array\n",
    "randomArray = np.random.rand(1,4,2)\n",
    "\n",
    "print(randomArray)"
   ]
  },
  {
   "cell_type": "markdown",
   "metadata": {},
   "source": [
    "## References <a id=\"ref\"/>"
   ]
  },
  {
   "cell_type": "markdown",
   "metadata": {},
   "source": [
    "- [pyplot](https://matplotlib.org/api/pyplot_api.html#module-matplotlib.pyplot)\n",
    "- [realphthon.com](https://realpython.com/python-random/#the-random-module)\n",
    "- [mathsisfun](https://www.mathsisfun.com/definitions/permutation.html)\n",
    "- [permutation](https://www.w3cschool.cn/doc_numpy_1_12/numpy_1_12-generated-numpy-random-permutation.html?lang=en)\n",
    "- [distribution](https://www.dummies.com/education/math/statistics/what-the-distribution-tells-you-about-a-statistical-data-set/)\n",
    "- [most common](http://cmdlinetips.com/2018/03/probability-distributions-in-python/)\n",
    "- [Random Numbers](https://www.howtogeek.com/183051/htg-explains-how-computers-generate-random-numbers/)\n",
    "- [Random Generator](http://pit-claudel.fr/clement/blog/how-random-is-pseudo-random-testing-pseudo-random-number-generators-and-measuring-randomness/)"
   ]
  }
 ],
 "metadata": {
  "kernelspec": {
   "display_name": "Python 3",
   "language": "python",
   "name": "python3"
  },
  "language_info": {
   "codemirror_mode": {
    "name": "ipython",
    "version": 3
   },
   "file_extension": ".py",
   "mimetype": "text/x-python",
   "name": "python",
   "nbconvert_exporter": "python",
   "pygments_lexer": "ipython3",
   "version": "3.7.1"
  }
 },
 "nbformat": 4,
 "nbformat_minor": 2
}
