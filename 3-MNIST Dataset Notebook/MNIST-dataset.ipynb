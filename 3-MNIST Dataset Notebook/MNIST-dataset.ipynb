{
 "cells": [
  {
   "cell_type": "markdown",
   "metadata": {},
   "source": [
    "# MNIST dataset\n",
    "![](https://i.imgur.com/mdLvmn4.png)"
   ]
  },
  {
   "cell_type": "markdown",
   "metadata": {},
   "source": [
    "-  [Introduction](#intro)"
   ]
  },
  {
   "cell_type": "markdown",
   "metadata": {},
   "source": [
    "## Introduction <a id = \"intro\"></a>"
   ]
  },
  {
   "cell_type": "markdown",
   "metadata": {},
   "source": [
    "The MINST dataset files used in  this tutorial can be downloaded from [The MINST Database](http://yann.lecun.com/exdb/mnist/)\n",
    "\n",
    "The MNIST dataset was constructed from two datasets of the US __National Institute of Standards and Technology__ (NIST). The training set consists of handwritten digits from 250 different people, 50 percent high school students, and 50 percent employees from the Census Bureau. Note that the test set contains handwritten digits from different people following the same split.\n",
    "\n",
    "The MNIST dataset contains 60,000 training images and 10,000 test images.\n",
    "\n",
    "In this notebook we will look at how to read the MNIST dataset efficiently into memory."
   ]
  },
  {
   "cell_type": "markdown",
   "metadata": {},
   "source": [
    "## File Format of the MNIST Database\n",
    "The data is stored in a very simple file format designed for storing vectors and multidimensional matrices.\n",
    "\n",
    "All the integers in the files are stored in the MSB first (high endian) format used by most non-Intel processors. Users of Intel processors and other low-endian machines must flip the bytes of the header.\n",
    "\n",
    "There are 4 files:\n",
    "\n",
    "- train-images-idx3-ubyte: training set images\n",
    "- train-labels-idx1-ubyte: training set labels\n",
    "- t10k-images-idx3-ubyte:  test set images\n",
    "- t10k-labels-idx1-ubyte:  test set labels\n",
    "\n",
    "The training set contains 60000 examples and labels, and the test set contains 10000 examples and labels."
   ]
  },
  {
   "cell_type": "markdown",
   "metadata": {},
   "source": [
    "## The IDX File Format\n",
    "the IDX file format is a simple format for vectors and multidimensional matrices of various numerical types.\n",
    "\n",
    "The basic format is\n",
    "\n",
    "- magic number\n",
    "- size in dimension 0\n",
    "- size in dimension 1\n",
    "- size in dimension 2\n",
    "- .....\n",
    "- size in dimension N\n",
    "- data\n",
    "\n",
    "The magic number is an integer (MSB first). The first 2 bytes are always 0.\n",
    "\n",
    "The third byte codes the type of the data:\n",
    "- 0x08: unsigned byte\n",
    "- 0x09: signed byte\n",
    "- 0x0B: short (2 bytes)\n",
    "- 0x0C: int (4 bytes)\n",
    "- 0x0D: float (4 bytes)\n",
    "- 0x0E: double (8 bytes)\n",
    "\n",
    "The 4-th byte codes the number of dimensions of the vector/matrix: 1 for vectors, 2 for matrices....\n",
    "\n",
    "The sizes in each dimension are 4-byte integers (MSB first, high endian, like in most non-Intel processors).\n",
    "\n",
    "The data is stored like in a C array, i.e. the index in the last dimension changes the fastest. "
   ]
  },
  {
   "cell_type": "markdown",
   "metadata": {},
   "source": [
    "\n",
    "## Prepare The Data\n",
    "In order to use the MNIST dataset we need to organise the data into a usable format. The zipped folders contains images stored as _.idx_ files."
   ]
  },
  {
   "cell_type": "markdown",
   "metadata": {},
   "source": [
    "### Decompress .gz file\n",
    "First we must decompress the files. This can be done easily by using Pythons __[gzip](https://docs.python.org/3/library/gzip.html)__ module. This module provides a simple interface for dealing with compressed files with functions such as _open()_,_compress()_, and _decompress()_."
   ]
  },
  {
   "cell_type": "code",
   "execution_count": 1,
   "metadata": {},
   "outputs": [],
   "source": [
    "# https://docs.python.org/3/library/gzip.html\n",
    "# Must import gzip to allow pyhton to read  and uncompress zip files\n",
    "import gzip\n",
    "\n",
    "# Unzip and open file for reading\n",
    "with gzip.open('data/t10k-images-idx3-ubyte.gz', 'rb') as f:\n",
    "    file_content = f.read()"
   ]
  },
  {
   "cell_type": "markdown",
   "metadata": {},
   "source": [
    "### Read Bytes\n",
    "Reading bytes from the file is simple, the first 16 bytes of _t10k-images-idx3-ubyte.gz_ allow us to retrieve information about the file."
   ]
  },
  {
   "cell_type": "code",
   "execution_count": 2,
   "metadata": {},
   "outputs": [
    {
     "name": "stdout",
     "output_type": "stream",
     "text": [
      "Data is of type : <class 'bytes'>\n",
      "Bytes contained in file_content[0:4]   : b'\\x00\\x00\\x08\\x03' \tAs Integer : 2051\n",
      "Bytes contained in file_content[4:8]   : b\"\\x00\\x00'\\x10\" \tAs Integer : 10000\n",
      "Bytes contained in file_content[8:12]  : b'\\x00\\x00\\x00\\x1c' \tAs Integer : 28\n",
      "Bytes contained in file_content[12:16] : b'\\x00\\x00\\x00\\x1c' \tAs Integer : 28\n"
     ]
    }
   ],
   "source": [
    "# Read first 4 bytes of file\n",
    "print(\"Data is of type :\",type(file_content[0:4]))\n",
    "\n",
    "# Get byte codes and integer values\n",
    "print(\"Bytes contained in file_content[0:4]   :\",file_content[0:4],\"\\tAs Integer :\",int.from_bytes(file_content[0:4],byteorder='big'))\n",
    "print(\"Bytes contained in file_content[4:8]   :\",file_content[4:8],\"\\tAs Integer :\",int.from_bytes(file_content[4:8],byteorder='big'))\n",
    "print(\"Bytes contained in file_content[8:12]  :\",file_content[8:12],\"\\tAs Integer :\",int.from_bytes(file_content[8:12],byteorder='big'))\n",
    "print(\"Bytes contained in file_content[12:16] :\",file_content[12:16],\"\\tAs Integer :\",int.from_bytes(file_content[12:16],byteorder='big'))"
   ]
  },
  {
   "cell_type": "markdown",
   "metadata": {},
   "source": [
    "From the above data we can gather the following about the file:\n",
    "    - Type of data is unsigned byte (x08)\n",
    "    - Number of dimensions is 3(x03)\n",
    "    - Number of images is 10000\n",
    "    - Number of rows is 28\n",
    "    - Number of columns is 28"
   ]
  },
  {
   "cell_type": "markdown",
   "metadata": {},
   "source": [
    "### Read Image Data\n",
    "Each vector in the matrix consists of 784 pixels derived from the original 28x28 pixel images. We can load each 784  set into a 28X28 numpy array as an unassigned 8 bit integer."
   ]
  },
  {
   "cell_type": "code",
   "execution_count": 3,
   "metadata": {},
   "outputs": [],
   "source": [
    "# Import the Python image library\n",
    "import PIL\n",
    "\n",
    "# Import numpy as np\n",
    "import numpy as np\n",
    "\n",
    "# convert data to 28x28 array\n",
    "# '~' tilde symbol inverts bit ie. 1 to 0 , 0 to 1\n",
    "image = ~np.array(list(file_content[16:800])).reshape(28,28).astype(np.uint8)"
   ]
  },
  {
   "cell_type": "markdown",
   "metadata": {},
   "source": [
    "### Display Image"
   ]
  },
  {
   "cell_type": "code",
   "execution_count": 4,
   "metadata": {},
   "outputs": [
    {
     "data": {
      "text/plain": [
       "<matplotlib.image.AxesImage at 0x2b31dd1f940>"
      ]
     },
     "execution_count": 4,
     "metadata": {},
     "output_type": "execute_result"
    },
    {
     "data": {
      "image/png": "[encoded data removed]",
      "text/plain": [
       "<Figure size 432x288 with 1 Axes>"
      ]
     },
     "metadata": {
      "needs_background": "light"
     },
     "output_type": "display_data"
    }
   ],
   "source": [
    "%matplotlib inline\n",
    "import matplotlib.pyplot as plt\n",
    "\n",
    "plt.imshow(image, cmap='gray')"
   ]
  },
  {
   "cell_type": "markdown",
   "metadata": {},
   "source": [
    "We Can also visualize an image by printing out its rgb values"
   ]
  },
  {
   "cell_type": "code",
   "execution_count": 5,
   "metadata": {},
   "outputs": [
    {
     "name": "stdout",
     "output_type": "stream",
     "text": [
      "\n",
      "............................\n",
      "............................\n",
      "............................\n",
      "............................\n",
      "............................\n",
      "............................\n",
      "............................\n",
      "......######................\n",
      "......################......\n",
      "......################......\n",
      "...........###########......\n",
      "..................####......\n",
      ".................####.......\n",
      ".................####.......\n",
      "................####........\n",
      "................####........\n",
      "...............####.........\n",
      "...............###..........\n",
      "..............####..........\n",
      ".............####...........\n",
      "............#####...........\n",
      "............####............\n",
      "...........#####............\n",
      "...........####.............\n",
      "..........#####.............\n",
      "..........#####.............\n",
      "..........####..............\n",
      "............................"
     ]
    }
   ],
   "source": [
    "# Visualise image by printing out its values(. for 0 and # for rgb)\n",
    "for x in image:\n",
    "    print()\n",
    "    for y in x:\n",
    "        if(y != 255):\n",
    "            print(\"#\", end=\"\")\n",
    "        else:\n",
    "            print(\".\", end=\"\")"
   ]
  },
  {
   "cell_type": "markdown",
   "metadata": {},
   "source": [
    "### Read Label Data\n",
    "The label files are formatted similar to the image files. The first 4 bytes give us information about the file "
   ]
  },
  {
   "cell_type": "code",
   "execution_count": 6,
   "metadata": {},
   "outputs": [
    {
     "name": "stdout",
     "output_type": "stream",
     "text": [
      "Magic Number    :  b\"\\x00\\x00'\\x10\"\n",
      "Number of items :  10000\n",
      "Display Label as bytes   :  b'\\x07'\n",
      "Display Label as Integer :  7\n"
     ]
    }
   ],
   "source": [
    "# read labels from file\n",
    "with gzip.open('data/t10k-labels-idx1-ubyte.gz', 'rb') as f:\n",
    "    labels = f.read()\n",
    "\n",
    "print(\"Magic Number    : \",labels[4:8])  \n",
    "print(\"Number of items : \",int.from_bytes(labels[4:8], byteorder=\"big\"))  \n",
    "\n",
    "# Display Label as bytes    \n",
    "print(\"Display Label as bytes   : \",labels[8:9])\n",
    "# Desplay  Label as int\n",
    "print(\"Display Label as Integer : \",int.from_bytes(labels[8:9], byteorder=\"big\"))"
   ]
  },
  {
   "cell_type": "markdown",
   "metadata": {},
   "source": [
    "## Load all Images and Labels\n",
    "To be able to be able to train a machine learning model we must load all data into memory. In this section we will create and load data into four data sets:\n",
    "- train_image : Images used to train the model\n",
    "- train_label : Labels used to train the model\n",
    "- test_image  : Images used to test the model\n",
    "- test_label  : Labels used to test the model\n",
    "\n",
    "### Load Test Sets"
   ]
  },
  {
   "cell_type": "code",
   "execution_count": 7,
   "metadata": {},
   "outputs": [
    {
     "name": "stdout",
     "output_type": "stream",
     "text": [
      "Length test_image: 10000  Length test_label: 10000\n",
      "\n",
      "............................\n",
      "............................\n",
      "............................\n",
      "............................\n",
      "............................\n",
      "............................\n",
      "............................\n",
      "......######................\n",
      "......################......\n",
      "......################......\n",
      "...........###########......\n",
      "..................####......\n",
      ".................####.......\n",
      ".................####.......\n",
      "................####........\n",
      "................####........\n",
      "...............####.........\n",
      "...............###..........\n",
      "..............####..........\n",
      ".............####...........\n",
      "............#####...........\n",
      "............####............\n",
      "...........#####............\n",
      "...........####.............\n",
      "..........#####.............\n",
      "..........#####.............\n",
      "..........####..............\n",
      "............................\n",
      "Corresponding Label : 7\n",
      "\n",
      "............................\n",
      "............................\n",
      "............................\n",
      "..........#######...........\n",
      ".........#########..........\n",
      "........##########..........\n",
      ".......######.####..........\n",
      ".......####...####..........\n",
      "........##....####..........\n",
      ".............#####..........\n",
      "............#####...........\n",
      "............####............\n",
      "...........#####............\n",
      "..........#####.............\n",
      "..........####..............\n",
      ".........#####..............\n",
      "........#####...............\n",
      "........#####...............\n",
      "........####................\n",
      "........#########.#########.\n",
      "........###################.\n",
      "........###################.\n",
      ".........############.......\n",
      "............................\n",
      "............................\n",
      "............................\n",
      "............................\n",
      "............................\n",
      "Corresponding Label : 2\n"
     ]
    }
   ],
   "source": [
    "# import time it to measure performance\n",
    "import timeit\n",
    "\n",
    "# Loading test sets\n",
    "test_image = []\n",
    "test_label= []\n",
    "testListArray=[]\n",
    "\n",
    "imageSize = 784\n",
    "\n",
    "# i,j act as offsets to offest idx format \n",
    "i=16\n",
    "j=8\n",
    "\n",
    "# Start timer\n",
    "start_time_test = timeit.default_timer()\n",
    "\n",
    "# Iterate through file\n",
    "while (i < len(file_content)): \n",
    "    # Add image to array\n",
    "    test_image.append(~np.array(list(file_content[i:i+imageSize])).reshape(28,28).astype(np.uint8))\n",
    "    # Add label to array\n",
    "    test_label.append(int.from_bytes(labels[j:j+1], byteorder=\"big\"))\n",
    "    \n",
    "    i += imageSize\n",
    "    j = j+1\n",
    "\n",
    "# Stop Timer\n",
    "timeTakenTest = timeit.default_timer() - start_time_test\n",
    "\n",
    "# Add arrays to test array   \n",
    "testListArray.append(test_image)\n",
    "testListArray.append(test_label)\n",
    "\n",
    "print(\"Length test_image:\",len(test_image),\" Length test_label:\",len(test_label))\n",
    "\n",
    "# test for correct values\n",
    "i = 0\n",
    "for i in range(2):\n",
    "    \n",
    "    for x in testListArray[0][i]:\n",
    "        print()\n",
    "        for y in x:\n",
    "            if(y != 255):\n",
    "                print(\"#\", end=\"\")\n",
    "            else:\n",
    "                print(\".\", end=\"\")\n",
    "   \n",
    "    print(\"\\nCorresponding Label :\",testListArray[1][i])"
   ]
  },
  {
   "cell_type": "markdown",
   "metadata": {},
   "source": [
    "### Load Training sets"
   ]
  },
  {
   "cell_type": "code",
   "execution_count": 8,
   "metadata": {},
   "outputs": [
    {
     "name": "stdout",
     "output_type": "stream",
     "text": [
      "\n",
      "............................\n",
      "............................\n",
      "............................\n",
      "............................\n",
      "............................\n",
      "............############....\n",
      "........################....\n",
      ".......################.....\n",
      ".......###########..........\n",
      "........#######.##..........\n",
      ".........#####..............\n",
      "...........####.............\n",
      "...........####.............\n",
      "............######..........\n",
      ".............######.........\n",
      "..............######........\n",
      "...............#####........\n",
      ".................####.......\n",
      "..............#######.......\n",
      "............########........\n",
      "..........#########.........\n",
      "........##########..........\n",
      "......##########............\n",
      "....##########..............\n",
      "....########................\n",
      "............................\n",
      "............................\n",
      "............................\n",
      "Corresponding Label : 5\n",
      "\n",
      "............................\n",
      "............................\n",
      "............................\n",
      "............................\n",
      "...............#####........\n",
      "..............######........\n",
      ".............#########......\n",
      "...........###########......\n",
      "...........###########......\n",
      "..........############......\n",
      ".........#########..###.....\n",
      "........######......###.....\n",
      ".......#######......###.....\n",
      ".......####.........###.....\n",
      ".......###..........###.....\n",
      "......####..........###.....\n",
      "......####........#####.....\n",
      "......###........#####......\n",
      "......###.......####........\n",
      "......###......####.........\n",
      "......#############.........\n",
      "......###########...........\n",
      "......#########.............\n",
      ".......#######..............\n",
      "............................\n",
      "............................\n",
      "............................\n",
      "............................\n",
      "Corresponding Label : 0\n"
     ]
    }
   ],
   "source": [
    "# Unzip and open training image and label file for reading\n",
    "with gzip.open('data/train-images-idx3-ubyte.gz', 'rb') as f:\n",
    "    train_images_content = f.read()\n",
    "    \n",
    "with gzip.open('data/train-labels-idx1-ubyte.gz', 'rb') as f:\n",
    "    train_labels_content = f.read()   \n",
    "    \n",
    "train_image = []\n",
    "train_label = []\n",
    "imageSize = 784\n",
    "trainImageSize=len(train_images_content)\n",
    "\n",
    "# i,j act as offsets to offest idx format \n",
    "i=16\n",
    "j=8\n",
    "\n",
    "# Start timer\n",
    "start_time_train = timeit.default_timer()\n",
    "\n",
    "#Performance tweeks\n",
    "appendI = train_image.append\n",
    "appendL = train_label.append\n",
    "\n",
    "# Iterate through file\n",
    "while (i < trainImageSize): \n",
    "    # Add image to array\n",
    "    appendI(~np.array(list(train_images_content[i:i+imageSize])).reshape(28,28).astype(np.uint8))\n",
    "    # Add label to array\n",
    "    appendL(int.from_bytes(train_labels_content[j:j+1], byteorder=\"big\"))\n",
    "    \n",
    "    i += imageSize\n",
    "    j += 1\n",
    "\n",
    "# Stop Timer\n",
    "timeTakenTrain = timeit.default_timer() - start_time_train\n",
    "\n",
    "# test for correct values\n",
    "i = 0\n",
    "for i in range(2):\n",
    "    \n",
    "    for x in train_image[i]:\n",
    "        print()\n",
    "        for y in x:\n",
    "            if(y != 255):\n",
    "                print(\"#\", end=\"\")\n",
    "            else:\n",
    "                print(\".\", end=\"\")\n",
    "   \n",
    "    print(\"\\nCorresponding Label :\",train_label[i])  "
   ]
  },
  {
   "cell_type": "markdown",
   "metadata": {},
   "source": [
    "# Performance Statistics"
   ]
  },
  {
   "cell_type": "code",
   "execution_count": 18,
   "metadata": {},
   "outputs": [
    {
     "name": "stdout",
     "output_type": "stream",
     "text": [
      "Load test data Executed in  0.9783442068669936\n",
      "Load train dataExecuted in  5.246099276616858\n"
     ]
    }
   ],
   "source": [
    "print(\"Load test data Executed in \",timeTakenTest)\n",
    "print(\"Load train data Executed in \",timeTakenTrain)"
   ]
  },
  {
   "cell_type": "markdown",
   "metadata": {},
   "source": [
    "### Save Images to Memory\n",
    "The openCv library makes it easy to save images into memory. We save the images in the format \"trainImg\" + the index of the image along with the label corresponding to the value of the image. As we have already formatted the images into an array of 28x 28 numpy array we just need to call on the _imwrite()_ function. We only save the first 3 images here as its only an example."
   ]
  },
  {
   "cell_type": "code",
   "execution_count": 17,
   "metadata": {},
   "outputs": [],
   "source": [
    "## Os allows path name manipulation\n",
    "import os\n",
    "# openCv allows us to save show,read and write image\n",
    "import cv2 \n",
    "\n",
    "path = 'saved_images/' # directory to save images\n",
    "for x in range(3):\n",
    "    cv2.imwrite(os.path.join(path,'trainImg'+ str(x) + '_'+str(train_label[x]) +  '.png'),train_image[x])\n"
   ]
  },
  {
   "cell_type": "markdown",
   "metadata": {},
   "source": [
    "## References"
   ]
  },
  {
   "cell_type": "markdown",
   "metadata": {},
   "source": [
    "- [Info on MNIST dataset](http://yann.lecun.com/exdb/mnist/)\n",
    "- [gzip](https://docs.python.org/3/library/gzip.html)\n",
    "- [Deep Learing](http://deeplearning.net/tutorial/gettingstarted.html)\n",
    "- [OpenCv](https://opencv-python-tutroals.readthedocs.io/en/latest/py_tutorials/py_gui/py_image_display/py_image_display.html)"
   ]
  },
  {
   "cell_type": "code",
   "execution_count": null,
   "metadata": {},
   "outputs": [],
   "source": []
  }
 ],
 "metadata": {
  "kernelspec": {
   "display_name": "Python 3",
   "language": "python",
   "name": "python3"
  },
  "language_info": {
   "codemirror_mode": {
    "name": "ipython",
    "version": 3
   },
   "file_extension": ".py",
   "mimetype": "text/x-python",
   "name": "python",
   "nbconvert_exporter": "python",
   "pygments_lexer": "ipython3",
   "version": "3.6.6"
  }
 },
 "nbformat": 4,
 "nbformat_minor": 2
}
