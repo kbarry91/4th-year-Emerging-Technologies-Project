{
 "cells": [
  {
   "cell_type": "markdown",
   "metadata": {},
   "source": [
    "# MNIST Digit Recognition\n",
    "## Introduction\n",
    "This function of this Jupyter notebook is to explain how the python script [Source link to script](https://github.com/kbarry91/Emerging-Technologies/tree/master/4-MNIST%20Digit%20Recognition%20Script) works and to discuss its performance.\n",
    "<br>\n",
    "\n",
    "The aim of the script as discribed in the project brief was to develope a __Digit recognition script__: a _Python script that takes an image ﬁle containing a handwritten digit and identiﬁes the digit using a supervised learning algorithm and the MNIST dataset._\n"
   ]
  },
  {
   "cell_type": "markdown",
   "metadata": {},
   "source": [
    "## Folder Structure \n",
    "On inital download of the project you will notice the directory only has one folder 'testImages' and a 'digitrec.py' script\n",
    "<br>\n",
    "__testImages:__ Contain images of different sizes and types to test the algorithm.<br>\n",
    "__digitrec.py:__ A python script containing the source code\n",
    "![initial](https://i.imgur.com/8nkerH3.png)\n",
    "Once the program has been compiled and run another folder 'models' will be generated. \n",
    "![after](https://i.imgur.com/LTGgkJI.png)\n",
    "__models:__ Contains saved neural network model to increase performace and decrease wait time "
   ]
  },
  {
   "cell_type": "markdown",
   "metadata": {},
   "source": [
    "## Navigating The program\n",
    "The program has been build to provide simplicity to the user. That is it hides all the complicated  "
   ]
  }
 ],
 "metadata": {
  "kernelspec": {
   "display_name": "Python 3",
   "language": "python",
   "name": "python3"
  },
  "language_info": {
   "codemirror_mode": {
    "name": "ipython",
    "version": 3
   },
   "file_extension": ".py",
   "mimetype": "text/x-python",
   "name": "python",
   "nbconvert_exporter": "python",
   "pygments_lexer": "ipython3",
   "version": "3.7.1"
  }
 },
 "nbformat": 4,
 "nbformat_minor": 2
}
