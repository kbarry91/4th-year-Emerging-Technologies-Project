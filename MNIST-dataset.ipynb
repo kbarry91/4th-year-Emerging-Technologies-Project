{
 "cells": [
  {
   "cell_type": "markdown",
   "metadata": {},
   "source": [
    "# MNIST dataset"
   ]
  },
  {
   "cell_type": "markdown",
   "metadata": {},
   "source": [
    "-  [Introduction](#intro)"
   ]
  },
  {
   "cell_type": "markdown",
   "metadata": {},
   "source": [
    "## Introduction <a id = \"intro\"></a>"
   ]
  },
  {
   "cell_type": "markdown",
   "metadata": {},
   "source": [
    "MINST dataset files can be downloaded from [The MINST Database](http://yann.lecun.com/exdb/mnist/)\n",
    "\n",
    "The MNIST dataset was constructed from two datasets of the US __National Institute of Standards and Technology__ (NIST). The training set consists of handwritten digits from 250 different people, 50 percent high school students, and 50 percent employees from the Census Bureau. Note that the test set contains handwritten digits from different people following the same split.\n",
    "\n",
    "The MNIST dataset contains 60,000 training images and 10,000 test images.\n",
    "\n",
    "In this notebook we will look at how to read the MNIST dataset efficiently into memory."
   ]
  },
  {
   "cell_type": "markdown",
   "metadata": {},
   "source": [
    "## File Format of the MNIST Database\n",
    "The data is stored in a very simple file format designed for storing vectors and multidimensional matrices.\n",
    "\n",
    "All the integers in the files are stored in the MSB first (high endian) format used by most non-Intel processors. Users of Intel processors and other low-endian machines must flip the bytes of the header.\n",
    "\n",
    "There are 4 files:\n",
    "\n",
    "- train-images-idx3-ubyte: training set images\n",
    "- train-labels-idx1-ubyte: training set labels\n",
    "- t10k-images-idx3-ubyte:  test set images\n",
    "- t10k-labels-idx1-ubyte:  test set labels\n",
    "\n",
    "The training set contains 60000 examples, and the test set 10000 examples.\n",
    "\n",
    "The first 5000 examples of the test set are taken from the original NIST training set. The last 5000 are taken from the original NIST test set. The first 5000 are cleaner and easier than the last 5000. "
   ]
  },
  {
   "cell_type": "markdown",
   "metadata": {},
   "source": [
    "## The IDX File Format\n",
    "the IDX file format is a simple format for vectors and multidimensional matrices of various numerical types.\n",
    "\n",
    "The basic format is\n",
    "\n",
    "- magic number\n",
    "- size in dimension 0\n",
    "- size in dimension 1\n",
    "- size in dimension 2\n",
    "- .....\n",
    "- size in dimension N\n",
    "- data\n",
    "\n",
    "The magic number is an integer (MSB first). The first 2 bytes are always 0.\n",
    "\n",
    "The third byte codes the type of the data:\n",
    "- 0x08: unsigned byte\n",
    "- 0x09: signed byte\n",
    "- 0x0B: short (2 bytes)\n",
    "- 0x0C: int (4 bytes)\n",
    "- 0x0D: float (4 bytes)\n",
    "- 0x0E: double (8 bytes)\n",
    "\n",
    "The 4-th byte codes the number of dimensions of the vector/matrix: 1 for vectors, 2 for matrices....\n",
    "\n",
    "The sizes in each dimension are 4-byte integers (MSB first, high endian, like in most non-Intel processors).\n",
    "\n",
    "The data is stored like in a C array, i.e. the index in the last dimension changes the fastest. "
   ]
  },
  {
   "cell_type": "markdown",
   "metadata": {},
   "source": [
    "\n",
    "## Prepare The Data\n",
    "In order to use the MNIST dataset we need to organise the data into a usable format. The zipped folders contains images stored as _.idx_ files."
   ]
  },
  {
   "cell_type": "markdown",
   "metadata": {},
   "source": [
    "### Unpack the files"
   ]
  },
  {
   "cell_type": "code",
   "execution_count": 1,
   "metadata": {},
   "outputs": [],
   "source": [
    "# https://docs.python.org/3/library/gzip.html\n",
    "# Must import gzip to allow pyhton to read  and uncompress zip files\n",
    "import gzip\n",
    "\n",
    "# Unzip and open file for reading\n",
    "with gzip.open('data/t10k-images-idx3-ubyte.gz', 'rb') as f:\n",
    "    file_content = f.read()"
   ]
  },
  {
   "cell_type": "markdown",
   "metadata": {},
   "source": [
    "### Read Bytes from file"
   ]
  },
  {
   "cell_type": "code",
   "execution_count": 2,
   "metadata": {},
   "outputs": [
    {
     "name": "stdout",
     "output_type": "stream",
     "text": [
      "Bytes contained in file_content[0:4] =  b'\\x00\\x00\\x08\\x03'\n",
      "Data is of type : <class 'bytes'>\n"
     ]
    },
    {
     "data": {
      "text/plain": [
       "2051"
      ]
     },
     "execution_count": 2,
     "metadata": {},
     "output_type": "execute_result"
    }
   ],
   "source": [
    "# Read first 4 bytes of file\n",
    "print(\"Bytes contained in file_content[0:4] = \",file_content[0:4])\n",
    "print(\"Data is of type :\",type(file_content[0:4]))\n",
    "\n",
    "# Convert bytes to integer\n",
    "int.from_bytes(file_content[0:4],byteorder='big')"
   ]
  },
  {
   "cell_type": "markdown",
   "metadata": {},
   "source": [
    "### Read and Convert data to image\n",
    "Each vector in the matrix consists of 784 pixels derived from the original 28x28 pixel images. We can load each 784  set into a 28X28 numpy array as an unassigned 8 bit integer.\n",
    "\n",
    "#### Read Image"
   ]
  },
  {
   "cell_type": "code",
   "execution_count": 3,
   "metadata": {},
   "outputs": [],
   "source": [
    "# Import the Python image library\n",
    "import PIL\n",
    "\n",
    "# Import numpy as np\n",
    "import numpy as np\n",
    "\n",
    "# convert data to 28x28 array\n",
    "image = ~np.array(list(file_content[16:800])).reshape(28,28).astype(np.uint8)\n",
    "image2=~np.array(list(file_content[801:1585])).reshape(28,28).astype(np.uint8)"
   ]
  },
  {
   "cell_type": "markdown",
   "metadata": {},
   "source": [
    "#### Display Image"
   ]
  },
  {
   "cell_type": "code",
   "execution_count": 4,
   "metadata": {},
   "outputs": [
    {
     "data": {
      "text/plain": [
       "<matplotlib.image.AxesImage at 0x27aafa914a8>"
      ]
     },
     "execution_count": 4,
     "metadata": {},
     "output_type": "execute_result"
    },
    {
     "data": {
      "image/png": "[encoded data removed]",
      "text/plain": [
       "<Figure size 432x288 with 1 Axes>"
      ]
     },
     "metadata": {
      "needs_background": "light"
     },
     "output_type": "display_data"
    }
   ],
   "source": [
    "%matplotlib inline\n",
    "import matplotlib.pyplot as plt\n",
    "\n",
    "plt.imshow(image, cmap='gray')\n"
   ]
  },
  {
   "cell_type": "code",
   "execution_count": 5,
   "metadata": {},
   "outputs": [
    {
     "data": {
      "text/plain": [
       "<matplotlib.image.AxesImage at 0x27aafb2c2b0>"
      ]
     },
     "execution_count": 5,
     "metadata": {},
     "output_type": "execute_result"
    },
    {
     "data": {
      "image/png": "[encoded data removed]",
      "text/plain": [
       "<Figure size 432x288 with 1 Axes>"
      ]
     },
     "metadata": {
      "needs_background": "light"
     },
     "output_type": "display_data"
    }
   ],
   "source": [
    "plt.imshow(image2, cmap='gray')"
   ]
  },
  {
   "cell_type": "markdown",
   "metadata": {},
   "source": [
    "#### Read Label\n"
   ]
  },
  {
   "cell_type": "code",
   "execution_count": 6,
   "metadata": {},
   "outputs": [
    {
     "name": "stdout",
     "output_type": "stream",
     "text": [
      "Display Label as bytes   :  b'\\x07'\n",
      "Display Label as Integer :  7\n"
     ]
    }
   ],
   "source": [
    "# read labels from file\n",
    "with gzip.open('data/t10k-labels-idx1-ubyte.gz', 'rb') as f:\n",
    "    labels = f.read()\n",
    "    \n",
    "# Display Label as bytes    \n",
    "print(\"Display Label as bytes   : \",labels[8:9])\n",
    "\n",
    "# Desplay  Label as int\n",
    "print(\"Display Label as Integer : \",int.from_bytes(labels[8:9], byteorder=\"big\"))"
   ]
  },
  {
   "cell_type": "code",
   "execution_count": 7,
   "metadata": {},
   "outputs": [
    {
     "data": {
      "text/plain": [
       "10008"
      ]
     },
     "execution_count": 7,
     "metadata": {},
     "output_type": "execute_result"
    }
   ],
   "source": [
    "len(labels)\n"
   ]
  },
  {
   "cell_type": "code",
   "execution_count": 8,
   "metadata": {},
   "outputs": [
    {
     "data": {
      "text/plain": [
       "7840016"
      ]
     },
     "execution_count": 8,
     "metadata": {},
     "output_type": "execute_result"
    }
   ],
   "source": [
    "len(file_content)"
   ]
  },
  {
   "cell_type": "markdown",
   "metadata": {},
   "source": [
    "## Load all Images and Labels"
   ]
  },
  {
   "cell_type": "code",
   "execution_count": 9,
   "metadata": {},
   "outputs": [
    {
     "name": "stdout",
     "output_type": "stream",
     "text": [
      "[[255 255 255 255 255 255 255 255 255 255 255 255 255 255 255 255 255 255\n",
      "  255 255 255 255 255 255 255 255 255 255]\n",
      " [255 255 255 255 255 255 255 255 255 255 255 255 255 255 255 255 255 255\n",
      "  255 255 255 255 255 255 255 255 255 255]\n",
      " [255 255 255 255 255 255 255 255 255 255 255 255 255 255 255 255 255 255\n",
      "  255 255 255 255 255 255 255 255 255 255]\n",
      " [255 255 255 255 255 255 255 255 255 255 139 130  84   0   0 105 162 255\n",
      "  255 255 255 255 255 255 255 255 255 255]\n",
      " [255 255 255 255 255 255 255 255 255  86   2   2   2   2   2   2  37 225\n",
      "  255 255 255 255 255 255 255 255 255 255]\n",
      " [255 255 255 255 255 255 255 255  86   2   2   2  42 113  79   2   2 133\n",
      "  255 255 255 255 255 255 255 255 255 255]\n",
      " [255 255 255 255 255 255 255 203   5   2  45 223 243 255 249  49   2 115\n",
      "  255 255 255 255 255 255 255 255 255 255]\n",
      " [255 255 255 255 255 255 255 178   4  45 230 255 255 255 133   7   2 190\n",
      "  255 255 255 255 255 255 255 255 255 255]\n",
      " [255 255 255 255 255 255 255 255 224 237 255 255 255 255  46   2   2 190\n",
      "  255 255 255 255 255 255 255 255 255 255]\n",
      " [255 255 255 255 255 255 255 255 255 255 255 255 255 138   8   2  57 245\n",
      "  255 255 255 255 255 255 255 255 255 255]\n",
      " [255 255 255 255 255 255 255 255 255 255 255 255 179   8   2  24 192 255\n",
      "  255 255 255 255 255 255 255 255 255 255]\n",
      " [255 255 255 255 255 255 255 255 255 255 255 255 127   2   2 111 255 255\n",
      "  255 255 255 255 255 255 255 255 255 255]\n",
      " [255 255 255 255 255 255 255 255 255 255 255  79   9   2  96 243 255 255\n",
      "  255 255 255 255 255 255 255 255 255 255]\n",
      " [255 255 255 255 255 255 255 255 255 255 230  21   2  22 220 255 255 255\n",
      "  255 255 255 255 255 255 255 255 255 255]\n",
      " [255 255 255 255 255 255 255 255 255 255  57   2   2 114 255 255 255 255\n",
      "  255 255 255 255 255 255 255 255 255 255]\n",
      " [255 255 255 255 255 255 255 255 255 177   7   2  66 243 255 255 255 255\n",
      "  255 255 255 255 255 255 255 255 255 255]\n",
      " [255 255 255 255 255 255 255 255 236  55   2   2 114 255 255 255 255 255\n",
      "  255 255 255 255 255 255 255 255 255 255]\n",
      " [255 255 255 255 255 255 255 255 121   2   2  82 243 255 255 255 255 255\n",
      "  255 255 255 255 255 255 255 255 255 255]\n",
      " [255 255 255 255 255 255 255 255   7   2   2 230 255 255 255 255 255 255\n",
      "  255 255 255 255 255 255 255 255 255 255]\n",
      " [255 255 255 255 255 255 255 255   7   2   2 212 235 235 235 235 250 255\n",
      "  250 235 235 218 105 105 105 108 245 255]\n",
      " [255 255 255 255 255 255 255 255   7   2   2   2   2   2   2   2  87 112\n",
      "   89   2   2   2   2   2   2   2 132 255]\n",
      " [255 255 255 255 255 255 255 255  81   2   2   2   2   2   2   2   2   2\n",
      "    2   2   6   8   8  86 138 138 198 255]\n",
      " [255 255 255 255 255 255 255 255 255 137 132 132 132  89   2   2   2 100\n",
      "  132 132 214 255 255 255 255 255 255 255]\n",
      " [255 255 255 255 255 255 255 255 255 255 255 255 255 255 255 255 255 255\n",
      "  255 255 255 255 255 255 255 255 255 255]\n",
      " [255 255 255 255 255 255 255 255 255 255 255 255 255 255 255 255 255 255\n",
      "  255 255 255 255 255 255 255 255 255 255]\n",
      " [255 255 255 255 255 255 255 255 255 255 255 255 255 255 255 255 255 255\n",
      "  255 255 255 255 255 255 255 255 255 255]\n",
      " [255 255 255 255 255 255 255 255 255 255 255 255 255 255 255 255 255 255\n",
      "  255 255 255 255 255 255 255 255 255 255]\n",
      " [255 255 255 255 255 255 255 255 255 255 255 255 255 255 255 255 255 255\n",
      "  255 255 255 255 255 255 255 255 255 255]]\n",
      "2\n",
      "10000   10000\n",
      "==========\n",
      "=TEST==> [[255 255 255 255 255 255 255 255 255 255 255 255 255 255 255 255 255 255\n",
      "  255 255 255 255 255 255 255 255 255 255]\n",
      " [255 255 255 255 255 255 255 255 255 255 255 255 255 255 255 255 255 255\n",
      "  255 255 255 255 255 255 255 255 255 255]\n",
      " [255 255 255 255 255 255 255 255 255 255 255 255 255 255 255 255 255 255\n",
      "  255 255 255 255 255 255 255 255 255 255]\n",
      " [255 255 255 255 255 255 255 255 255 255 255 255 255 255 255 255 255 255\n",
      "  255 255 255 255 255 255 255 255 255 255]\n",
      " [255 255 255 255 255 255 255 255 255 255 255 255 255 255 255 255 255 255\n",
      "  255 255 255 255 255 255 255 255 255 255]\n",
      " [255 255 255 255 255 255 255 255 255 255 255 255 255 255 255 255 255 255\n",
      "  255 255 255 255 255 255 255 255 255 255]\n",
      " [255 255 255 255 255 255 255 255 255 255 255 255 255 255 255 255 255 255\n",
      "  255 255 255 255 255 255 255 255 255 255]\n",
      " [255 255 255 255 255 255 171  70  96 104 195 219 255 255 255 255 255 255\n",
      "  255 255 255 255 255 255 255 255 255 255]\n",
      " [255 255 255 255 255 255  33   1   1   1   1  14  57  57  57  57  57  57\n",
      "   57  57  85 203 255 255 255 255 255 255]\n",
      " [255 255 255 255 255 255 188 141 183 141  92  28   1  30   1   1   1   5\n",
      "   26   1   1 115 255 255 255 255 255 255]\n",
      " [255 255 255 255 255 255 255 255 255 255 255 238 189 241 188 188 188 196\n",
      "  234  19   1 149 255 255 255 255 255 255]\n",
      " [255 255 255 255 255 255 255 255 255 255 255 255 255 255 255 255 255 255\n",
      "  172   2  46 237 255 255 255 255 255 255]\n",
      " [255 255 255 255 255 255 255 255 255 255 255 255 255 255 255 255 255 233\n",
      "   22   0 172 255 255 255 255 255 255 255]\n",
      " [255 255 255 255 255 255 255 255 255 255 255 255 255 255 255 255 255 126\n",
      "    1  17 211 255 255 255 255 255 255 255]\n",
      " [255 255 255 255 255 255 255 255 255 255 255 255 255 255 255 255 196   6\n",
      "    1 193 255 255 255 255 255 255 255 255]\n",
      " [255 255 255 255 255 255 255 255 255 255 255 255 255 255 255 255 122   1\n",
      "   68 250 255 255 255 255 255 255 255 255]\n",
      " [255 255 255 255 255 255 255 255 255 255 255 255 255 255 255 246  50   7\n",
      "  197 255 255 255 255 255 255 255 255 255]\n",
      " [255 255 255 255 255 255 255 255 255 255 255 255 255 255 255 129   1  73\n",
      "  255 255 255 255 255 255 255 255 255 255]\n",
      " [255 255 255 255 255 255 255 255 255 255 255 255 255 255 180   4  15 198\n",
      "  255 255 255 255 255 255 255 255 255 255]\n",
      " [255 255 255 255 255 255 255 255 255 255 255 255 255 236  34   1  89 255\n",
      "  255 255 255 255 255 255 255 255 255 255]\n",
      " [255 255 255 255 255 255 255 255 255 255 255 255 252  52   1  36 220 255\n",
      "  255 255 255 255 255 255 255 255 255 255]\n",
      " [255 255 255 255 255 255 255 255 255 255 255 255 217   1   1 178 255 255\n",
      "  255 255 255 255 255 255 255 255 255 255]\n",
      " [255 255 255 255 255 255 255 255 255 255 255 224  31   1 140 254 255 255\n",
      "  255 255 255 255 255 255 255 255 255 255]\n",
      " [255 255 255 255 255 255 255 255 255 255 255 122   1   1 203 255 255 255\n",
      "  255 255 255 255 255 255 255 255 255 255]\n",
      " [255 255 255 255 255 255 255 255 255 255 194  13   1   1 203 255 255 255\n",
      "  255 255 255 255 255 255 255 255 255 255]\n",
      " [255 255 255 255 255 255 255 255 255 255 134   1   1  36 215 255 255 255\n",
      "  255 255 255 255 255 255 255 255 255 255]\n",
      " [255 255 255 255 255 255 255 255 255 255 134   1  48 237 255 255 255 255\n",
      "  255 255 255 255 255 255 255 255 255 255]\n",
      " [255 255 255 255 255 255 255 255 255 255 255 255 255 255 255 255 255 255\n",
      "  255 255 255 255 255 255 255 255 255 255]] ==LAB== 7\n",
      "=TEST==> [[255 255 255 255 255 255 255 255 255 255 255 255 255 255 255 255 255 255\n",
      "  255 255 255 255 255 255 255 255 255 255]\n",
      " [255 255 255 255 255 255 255 255 255 255 255 255 255 255 255 255 255 255\n",
      "  255 255 255 255 255 255 255 255 255 255]\n",
      " [255 255 255 255 255 255 255 255 255 255 255 255 255 255 255 255 255 255\n",
      "  255 255 255 255 255 255 255 255 255 255]\n",
      " [255 255 255 255 255 255 255 255 255 255 139 130  84   0   0 105 162 255\n",
      "  255 255 255 255 255 255 255 255 255 255]\n",
      " [255 255 255 255 255 255 255 255 255  86   2   2   2   2   2   2  37 225\n",
      "  255 255 255 255 255 255 255 255 255 255]\n",
      " [255 255 255 255 255 255 255 255  86   2   2   2  42 113  79   2   2 133\n",
      "  255 255 255 255 255 255 255 255 255 255]\n",
      " [255 255 255 255 255 255 255 203   5   2  45 223 243 255 249  49   2 115\n",
      "  255 255 255 255 255 255 255 255 255 255]\n",
      " [255 255 255 255 255 255 255 178   4  45 230 255 255 255 133   7   2 190\n",
      "  255 255 255 255 255 255 255 255 255 255]\n",
      " [255 255 255 255 255 255 255 255 224 237 255 255 255 255  46   2   2 190\n",
      "  255 255 255 255 255 255 255 255 255 255]\n",
      " [255 255 255 255 255 255 255 255 255 255 255 255 255 138   8   2  57 245\n",
      "  255 255 255 255 255 255 255 255 255 255]\n",
      " [255 255 255 255 255 255 255 255 255 255 255 255 179   8   2  24 192 255\n",
      "  255 255 255 255 255 255 255 255 255 255]\n",
      " [255 255 255 255 255 255 255 255 255 255 255 255 127   2   2 111 255 255\n",
      "  255 255 255 255 255 255 255 255 255 255]\n",
      " [255 255 255 255 255 255 255 255 255 255 255  79   9   2  96 243 255 255\n",
      "  255 255 255 255 255 255 255 255 255 255]\n",
      " [255 255 255 255 255 255 255 255 255 255 230  21   2  22 220 255 255 255\n",
      "  255 255 255 255 255 255 255 255 255 255]\n",
      " [255 255 255 255 255 255 255 255 255 255  57   2   2 114 255 255 255 255\n",
      "  255 255 255 255 255 255 255 255 255 255]\n",
      " [255 255 255 255 255 255 255 255 255 177   7   2  66 243 255 255 255 255\n",
      "  255 255 255 255 255 255 255 255 255 255]\n",
      " [255 255 255 255 255 255 255 255 236  55   2   2 114 255 255 255 255 255\n",
      "  255 255 255 255 255 255 255 255 255 255]\n",
      " [255 255 255 255 255 255 255 255 121   2   2  82 243 255 255 255 255 255\n",
      "  255 255 255 255 255 255 255 255 255 255]\n",
      " [255 255 255 255 255 255 255 255   7   2   2 230 255 255 255 255 255 255\n",
      "  255 255 255 255 255 255 255 255 255 255]\n",
      " [255 255 255 255 255 255 255 255   7   2   2 212 235 235 235 235 250 255\n",
      "  250 235 235 218 105 105 105 108 245 255]\n",
      " [255 255 255 255 255 255 255 255   7   2   2   2   2   2   2   2  87 112\n",
      "   89   2   2   2   2   2   2   2 132 255]\n",
      " [255 255 255 255 255 255 255 255  81   2   2   2   2   2   2   2   2   2\n",
      "    2   2   6   8   8  86 138 138 198 255]\n",
      " [255 255 255 255 255 255 255 255 255 137 132 132 132  89   2   2   2 100\n",
      "  132 132 214 255 255 255 255 255 255 255]\n",
      " [255 255 255 255 255 255 255 255 255 255 255 255 255 255 255 255 255 255\n",
      "  255 255 255 255 255 255 255 255 255 255]\n",
      " [255 255 255 255 255 255 255 255 255 255 255 255 255 255 255 255 255 255\n",
      "  255 255 255 255 255 255 255 255 255 255]\n",
      " [255 255 255 255 255 255 255 255 255 255 255 255 255 255 255 255 255 255\n",
      "  255 255 255 255 255 255 255 255 255 255]\n",
      " [255 255 255 255 255 255 255 255 255 255 255 255 255 255 255 255 255 255\n",
      "  255 255 255 255 255 255 255 255 255 255]\n",
      " [255 255 255 255 255 255 255 255 255 255 255 255 255 255 255 255 255 255\n",
      "  255 255 255 255 255 255 255 255 255 255]] ==LAB== 2\n",
      "=TEST==> [[255 255 255 255 255 255 255 255 255 255 255 255 255 255 255 255 255 255\n",
      "  255 255 255 255 255 255 255 255 255 255]\n",
      " [255 255 255 255 255 255 255 255 255 255 255 255 255 255 255 255 255 255\n",
      "  255 255 255 255 255 255 255 255 255 255]\n",
      " [255 255 255 255 255 255 255 255 255 255 255 255 255 255 255 255 255 255\n",
      "  255 255 255 255 255 255 255 255 255 255]\n",
      " [255 255 255 255 255 255 255 255 255 255 255 255 255 255 255 255 255 255\n",
      "  255 255 255 255 255 255 255 255 255 255]\n",
      " [255 255 255 255 255 255 255 255 255 255 255 255 255 255 255 255 217   1\n",
      "  146 255 255 255 255 255 255 255 255 255]\n",
      " [255 255 255 255 255 255 255 255 255 255 255 255 255 255 255 255 168   3\n",
      "  173 255 255 255 255 255 255 255 255 255]\n",
      " [255 255 255 255 255 255 255 255 255 255 255 255 255 255 255 255 120  14\n",
      "  255 255 255 255 255 255 255 255 255 255]\n",
      " [255 255 255 255 255 255 255 255 255 255 255 255 255 255 255 210  11 105\n",
      "  255 255 255 255 255 255 255 255 255 255]\n",
      " [255 255 255 255 255 255 255 255 255 255 255 255 255 255 255 171   1 192\n",
      "  255 255 255 255 255 255 255 255 255 255]\n",
      " [255 255 255 255 255 255 255 255 255 255 255 255 255 255 255  53  32 244\n",
      "  255 255 255 255 255 255 255 255 255 255]\n",
      " [255 255 255 255 255 255 255 255 255 255 255 255 255 255 223   1  39 255\n",
      "  255 255 255 255 255 255 255 255 255 255]\n",
      " [255 255 255 255 255 255 255 255 255 255 255 255 255 255 160   1  60 255\n",
      "  255 255 255 255 255 255 255 255 255 255]\n",
      " [255 255 255 255 255 255 255 255 255 255 255 255 255 255 115   1 178 255\n",
      "  255 255 255 255 255 255 255 255 255 255]\n",
      " [255 255 255 255 255 255 255 255 255 255 255 255 255 198  18  50 247 255\n",
      "  255 255 255 255 255 255 255 255 255 255]\n",
      " [255 255 255 255 255 255 255 255 255 255 255 255 255 131   0  90 255 255\n",
      "  255 255 255 255 255 255 255 255 255 255]\n",
      " [255 255 255 255 255 255 255 255 255 255 255 255 255  84   1 174 255 255\n",
      "  255 255 255 255 255 255 255 255 255 255]\n",
      " [255 255 255 255 255 255 255 255 255 255 255 255 231  23  40 255 255 255\n",
      "  255 255 255 255 255 255 255 255 255 255]\n",
      " [255 255 255 255 255 255 255 255 255 255 255 255 135   1  96 255 255 255\n",
      "  255 255 255 255 255 255 255 255 255 255]\n",
      " [255 255 255 255 255 255 255 255 255 255 255 255 104   1 113 255 255 255\n",
      "  255 255 255 255 255 255 255 255 255 255]\n",
      " [255 255 255 255 255 255 255 255 255 255 255 255  27   1 189 255 255 255\n",
      "  255 255 255 255 255 255 255 255 255 255]\n",
      " [255 255 255 255 255 255 255 255 255 255 255 194   4   1 189 255 255 255\n",
      "  255 255 255 255 255 255 255 255 255 255]\n",
      " [255 255 255 255 255 255 255 255 255 255 255 114   1  50 252 255 255 255\n",
      "  255 255 255 255 255 255 255 255 255 255]\n",
      " [255 255 255 255 255 255 255 255 255 255 245  40   1 134 255 255 255 255\n",
      "  255 255 255 255 255 255 255 255 255 255]\n",
      " [255 255 255 255 255 255 255 255 255 255 250  57  79 245 255 255 255 255\n",
      "  255 255 255 255 255 255 255 255 255 255]\n",
      " [255 255 255 255 255 255 255 255 255 255 255 255 255 255 255 255 255 255\n",
      "  255 255 255 255 255 255 255 255 255 255]\n",
      " [255 255 255 255 255 255 255 255 255 255 255 255 255 255 255 255 255 255\n",
      "  255 255 255 255 255 255 255 255 255 255]\n",
      " [255 255 255 255 255 255 255 255 255 255 255 255 255 255 255 255 255 255\n",
      "  255 255 255 255 255 255 255 255 255 255]\n",
      " [255 255 255 255 255 255 255 255 255 255 255 255 255 255 255 255 255 255\n",
      "  255 255 255 255 255 255 255 255 255 255]] ==LAB== 1\n",
      "=TEST==> [[255 255 255 255 255 255 255 255 255 255 255 255 255 255 255 255 255 255\n",
      "  255 255 255 255 255 255 255 255 255 255]\n",
      " [255 255 255 255 255 255 255 255 255 255 255 255 255 255 255 255 255 255\n",
      "  255 255 255 255 255 255 255 255 255 255]\n",
      " [255 255 255 255 255 255 255 255 255 255 255 255 255 255 255 255 255 255\n",
      "  255 255 255 255 255 255 255 255 255 255]\n",
      " [255 255 255 255 255 255 255 255 255 255 255 255 255 255 255 255 255 255\n",
      "  255 255 255 255 255 255 255 255 255 255]\n",
      " [255 255 255 255 255 255 255 255 255 255 255 255 244 105   2  53 224 255\n",
      "  255 255 255 255 255 255 255 255 255 255]\n",
      " [255 255 255 255 255 255 255 255 255 255 255 255 218   4   4   2 148 255\n",
      "  255 255 255 255 255 255 255 255 255 255]\n",
      " [255 255 255 255 255 255 255 255 255 255 255 234  58   4   4   2 148 255\n",
      "  255 255 255 255 255 255 255 255 255 255]\n",
      " [255 255 255 255 255 255 255 255 255 255 145  65   4   4   4   2  86 146\n",
      "  193 255 255 255 255 255 255 255 255 255]\n",
      " [255 255 255 255 255 255 255 255 255 255   2   4   4   4   4   2   4   4\n",
      "   35 204 255 255 255 255 255 255 255 255]\n",
      " [255 255 255 255 255 255 255 255 255  73   0   2   2   2   2  21  33   2\n",
      "    2   2 255 255 255 255 255 255 255 255]\n",
      " [255 255 255 255 255 255 255 255 192  34   2   4   4   4 108 178 193 127\n",
      "    4   4 150 255 255 255 255 255 255 255]\n",
      " [255 255 255 255 255 255 255 223  24   4   2   4  35 118 245 255 255 224\n",
      "   25   4  12 142 250 255 255 255 255 255]\n",
      " [255 255 255 255 255 255 255 218   4   4   2  67 235 255 255 255 255 255\n",
      "  146   4   2   4 220 255 255 255 255 255]\n",
      " [255 255 255 255 255 255 255 218   4   4  54 225 255 255 255 255 255 255\n",
      "  224  55   2   4 220 255 255 255 255 255]\n",
      " [255 255 255 255 255 255 255 218   2   2 255 255 255 255 255 255 255 255\n",
      "  223  53   0   2  91 255 255 255 255 255]\n",
      " [255 255 255 255 255 255 255 115   4   4 255 255 255 255 255 255 255 255\n",
      "  146   4   2   4 220 255 255 255 255 255]\n",
      " [255 255 255 255 255 255 255  38   4   4 255 255 255 255 255 255 234 192\n",
      "   24   4   2  25 225 255 255 255 255 255]\n",
      " [255 255 255 255 255 255 255  38   4   4 255 255 255 255 255 255 111   4\n",
      "    4   4  34 194 255 255 255 255 255 255]\n",
      " [255 255 255 255 255 255 255  38   4   4 255 255 255 255 255  73  34   4\n",
      "    4   4  75 255 255 255 255 255 255 255]\n",
      " [255 255 255 255 255 255 255  37   2   2 182 182  27   2   2   0   2   2\n",
      "    2   2 255 255 255 255 255 255 255 255]\n",
      " [255 255 255 255 255 255 255 142   4   4   2   4   4   4   4   2   4   4\n",
      "    4 108 255 255 255 255 255 255 255 255]\n",
      " [255 255 255 255 255 255 255 224  25   4   2   4   4   4   4   2  25  66\n",
      "  220 245 255 255 255 255 255 255 255 255]\n",
      " [255 255 255 255 255 255 255 255 193 113   2   4   4   4   4   2 148 255\n",
      "  255 255 255 255 255 255 255 255 255 255]\n",
      " [255 255 255 255 255 255 255 255 255 255 183  81   4  82 184 183 225 255\n",
      "  255 255 255 255 255 255 255 255 255 255]\n",
      " [255 255 255 255 255 255 255 255 255 255 255 255 255 255 255 255 255 255\n",
      "  255 255 255 255 255 255 255 255 255 255]\n",
      " [255 255 255 255 255 255 255 255 255 255 255 255 255 255 255 255 255 255\n",
      "  255 255 255 255 255 255 255 255 255 255]\n",
      " [255 255 255 255 255 255 255 255 255 255 255 255 255 255 255 255 255 255\n",
      "  255 255 255 255 255 255 255 255 255 255]\n",
      " [255 255 255 255 255 255 255 255 255 255 255 255 255 255 255 255 255 255\n",
      "  255 255 255 255 255 255 255 255 255 255]] ==LAB== 0\n",
      "=TEST==> [[255 255 255 255 255 255 255 255 255 255 255 255 255 255 255 255 255 255\n",
      "  255 255 255 255 255 255 255 255 255 255]\n",
      " [255 255 255 255 255 255 255 255 255 255 255 255 255 255 255 255 255 255\n",
      "  255 255 255 255 255 255 255 255 255 255]\n",
      " [255 255 255 255 255 255 255 255 255 255 255 255 255 255 255 255 255 255\n",
      "  255 255 255 255 255 255 255 255 255 255]\n",
      " [255 255 255 255 255 255 255 255 255 255 255 255 255 255 255 255 255 255\n",
      "  255 255 255 255 255 255 255 255 255 255]\n",
      " [255 255 255 255 255 255 255 255 255 255 255 255 255 255 255 255 255 255\n",
      "  255 255 255 255 255 255 255 255 255 255]\n",
      " [255 255 255 255 255 255 255 255 255 255 205  31 255 255 255 255 255 255\n",
      "  255 185 226 255 255 255 255 255 255 255]\n",
      " [255 255 255 255 255 255 255 255 255 255 134  24 255 255 255 255 255 255\n",
      "  255 107  87 255 255 255 255 255 255 255]\n",
      " [255 255 255 255 255 255 255 255 255 251  60  24 255 255 255 255 255 255\n",
      "  255 159  45 244 255 255 255 255 255 255]\n",
      " [255 255 255 255 255 255 255 255 255 186   3 121 255 255 255 255 255 255\n",
      "  255 141   3 234 255 255 255 255 255 255]\n",
      " [255 255 255 255 255 255 255 255 210  19  38 243 255 255 255 255 255 255\n",
      "  255  63   3 234 255 255 255 255 255 255]\n",
      " [255 255 255 255 255 255 255 255  87   8 202 255 255 255 255 255 255 255\n",
      "  237   0   2 234 255 255 255 255 255 255]\n",
      " [255 255 255 255 255 255 255 171  13  44 255 255 255 255 255 255 255 255\n",
      "  114   2  66 250 255 255 255 255 255 255]\n",
      " [255 255 255 255 255 255 255  86   3 149 255 255 255 255 255 255 255 223\n",
      "   23   5 189 255 255 255 255 255 255 255]\n",
      " [255 255 255 255 255 255 240  30   3 255 255 255 255 255 255 255 255 121\n",
      "    3  44 255 255 255 255 255 255 255 255]\n",
      " [255 255 255 255 255 255 233   3  91 255 255 255 255 255 255 255 255  86\n",
      "    3  88 255 255 255 255 255 255 255 255]\n",
      " [255 255 255 255 255 255 246  51  46 237 255 255 255 255 255 255 233   2\n",
      "    2 148 255 255 255 255 255 255 255 255]\n",
      " [255 255 255 255 255 255 255  86   3  56 170 170 170 170 126  91  60   3\n",
      "    3 149 255 255 255 255 255 255 255 255]\n",
      " [255 255 255 255 255 255 255 214  85  10   3   3   3   3  23  24   4   3\n",
      "    3 246 255 255 255 255 255 255 255 255]\n",
      " [255 255 255 255 255 255 255 255 255 206 171 171 171 171 255 255  94   3\n",
      "    3 255 255 255 255 255 255 255 255 255]\n",
      " [255 255 255 255 255 255 255 255 255 255 255 255 255 255 255 255 128   3\n",
      "    3 210 255 255 255 255 255 255 255 255]\n",
      " [255 255 255 255 255 255 255 255 255 255 255 255 255 255 255 255 127   2\n",
      "    2 255 255 255 255 255 255 255 255 255]\n",
      " [255 255 255 255 255 255 255 255 255 255 255 255 255 255 255 255 128   3\n",
      "    3 255 255 255 255 255 255 255 255 255]\n",
      " [255 255 255 255 255 255 255 255 255 255 255 255 255 255 255 255 120   3\n",
      "   11 255 255 255 255 255 255 255 255 255]\n",
      " [255 255 255 255 255 255 255 255 255 255 255 255 255 255 255 255  23  19\n",
      "  144 255 255 255 255 255 255 255 255 255]\n",
      " [255 255 255 255 255 255 255 255 255 255 255 255 255 255 255 255  76 189\n",
      "  255 255 255 255 255 255 255 255 255 255]\n",
      " [255 255 255 255 255 255 255 255 255 255 255 255 255 255 255 255 255 255\n",
      "  255 255 255 255 255 255 255 255 255 255]\n",
      " [255 255 255 255 255 255 255 255 255 255 255 255 255 255 255 255 255 255\n",
      "  255 255 255 255 255 255 255 255 255 255]\n",
      " [255 255 255 255 255 255 255 255 255 255 255 255 255 255 255 255 255 255\n",
      "  255 255 255 255 255 255 255 255 255 255]] ==LAB== 4\n"
     ]
    }
   ],
   "source": [
    "#image = ~np.array(list(file_content[16:800])).reshape(28,28).astype(np.uint8)\n",
    "# Start at index 16 as first 16 bytes are represent file\n",
    "testList=[]\n",
    "imageSize = 784\n",
    "imageList =[]\n",
    "i=16\n",
    "j=8\n",
    "labelList = []\n",
    "\n",
    "while (i < len(file_content)): \n",
    "   \n",
    "    imageList.append(~np.array(list(file_content[i:i+imageSize])).reshape(28,28).astype(np.uint8))\n",
    "    labelList.append(int.from_bytes(labels[j:j+1], byteorder=\"big\"))\n",
    "    \n",
    "    i += imageSize\n",
    "    j=j+1\n",
    "    \n",
    "testList.append(imageList)\n",
    "testList.append(labelList)\n",
    "\n",
    "print(imageList[1])\n",
    "print(labelList[1])\n",
    "print(len(imageList),\" \",len(labelList))\n",
    "\n",
    "counter = 0\n",
    "i = 0\n",
    "\n",
    "for i in range(5):\n",
    "    print(\"=TEST==>\",testList[0][i],\"==LAB==\", testList[1][i])\n"
   ]
  },
  {
   "cell_type": "markdown",
   "metadata": {},
   "source": [
    "## Refernces"
   ]
  },
  {
   "cell_type": "markdown",
   "metadata": {},
   "source": [
    "- [Info on MNIST dataset](http://yann.lecun.com/exdb/mnist/)"
   ]
  },
  {
   "cell_type": "code",
   "execution_count": null,
   "metadata": {},
   "outputs": [],
   "source": []
  }
 ],
 "metadata": {
  "kernelspec": {
   "display_name": "Python 3",
   "language": "python",
   "name": "python3"
  },
  "language_info": {
   "codemirror_mode": {
    "name": "ipython",
    "version": 3
   },
   "file_extension": ".py",
   "mimetype": "text/x-python",
   "name": "python",
   "nbconvert_exporter": "python",
   "pygments_lexer": "ipython3",
   "version": "3.7.1"
  }
 },
 "nbformat": 4,
 "nbformat_minor": 2
}
